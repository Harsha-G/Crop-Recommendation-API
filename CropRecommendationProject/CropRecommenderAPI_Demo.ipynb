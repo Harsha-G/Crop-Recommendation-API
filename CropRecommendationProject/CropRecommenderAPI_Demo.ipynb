{
 "cells": [
  {
   "cell_type": "markdown",
   "id": "humanitarian-machinery",
   "metadata": {},
   "source": [
    "# Crop Recommender API Demo #\n",
    "\n",
    "In this notebook, I will briefly be making POST requests to the active Crop Recommendation API and displaying the results of the recommendation.\n",
    "\n",
    "To activate the Crop Recommendation Server, you will have to navigate within the directory that contains the 'manage.py', this will be inside the 'CropRecommenderAPI' file. Do this in a command/anaconda prompt and type in the following:\n",
    "            \n",
    "**python manage.py runserver**\n",
    "\n",
    "The above command will start the server and you will be ready to make requests."
   ]
  },
  {
   "cell_type": "code",
   "execution_count": 1,
   "id": "altered-routine",
   "metadata": {},
   "outputs": [],
   "source": [
    "# Consider our input data to be the following:\n",
    "\n",
    "soil_data = {\n",
    "    \"N\": 55,\n",
    "    \"P\": 78,\n",
    "    \"K\": 21,\n",
    "    \"temperature\": 33.394388,\n",
    "    \"humidity\": 62.936929,\n",
    "    \"ph\": 6.602888,\n",
    "    \"rainfall\": 63.574460\n",
    "}"
   ]
  },
  {
   "cell_type": "code",
   "execution_count": 2,
   "id": "unnecessary-mississippi",
   "metadata": {},
   "outputs": [],
   "source": [
    "# The following is the URL of the API we wish to make a call to:\n",
    "api_url = \"http://127.0.0.1:8000/predictcrop\""
   ]
  },
  {
   "cell_type": "code",
   "execution_count": 4,
   "id": "every-atlanta",
   "metadata": {},
   "outputs": [
    {
     "name": "stdout",
     "output_type": "stream",
     "text": [
      "[\"papaya\"]\n"
     ]
    }
   ],
   "source": [
    "# Using the requests library, we can make a call\n",
    "import requests\n",
    "\n",
    "r = requests.post(api_url, data=soil_data)\n",
    "print(r.text)"
   ]
  }
 ],
 "metadata": {
  "kernelspec": {
   "display_name": "Python 3",
   "language": "python",
   "name": "python3"
  },
  "language_info": {
   "codemirror_mode": {
    "name": "ipython",
    "version": 3
   },
   "file_extension": ".py",
   "mimetype": "text/x-python",
   "name": "python",
   "nbconvert_exporter": "python",
   "pygments_lexer": "ipython3",
   "version": "3.7.4"
  }
 },
 "nbformat": 4,
 "nbformat_minor": 5
}
